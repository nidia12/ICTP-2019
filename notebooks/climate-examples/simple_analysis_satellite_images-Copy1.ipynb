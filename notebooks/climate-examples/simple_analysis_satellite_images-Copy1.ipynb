{
 "cells": [
  {
   "cell_type": "markdown",
   "metadata": {},
   "source": [
    "<CENTER>\n",
    "    <img src=\"https://www.opportunitiesforafricans.com/wp-content/uploads/2016/11/ictp-696x222.png\" alt=\"Satellite image of three hurricanes\" width=\"40%\">\n",
    "</CENTER>"
   ]
  },
  {
   "cell_type": "markdown",
   "metadata": {},
   "source": [
    "# Example of using 2D histogram for simple analysis of satellite images\n",
    "arturos@cern.ch"
   ]
  },
  {
   "cell_type": "markdown",
   "metadata": {},
   "source": [
    "##### Source of the data\n",
    "\n",
    "###### Satellite pictures used in the example\n",
    "* https://www.ncdc.noaa.gov/gibbs/availability/2018-01-01\n",
    "   * https://www.ncdc.noaa.gov/gibbs/html/GOE-13/WV/2018-01-01-00\n",
    "   * https://www.ncdc.noaa.gov/gibbs/html/GOE-13/WV/2018-01-01-03\n"
   ]
  },
  {
   "cell_type": "markdown",
   "metadata": {},
   "source": [
    "Getting input two IR images"
   ]
  },
  {
   "cell_type": "code",
   "execution_count": null,
   "metadata": {
    "collapsed": true
   },
   "outputs": [],
   "source": [
    "TASImage image_1(\"201-2013203_computadora-portatil-png-dell-laptop-png.png\");\n",
    "UInt_t yPixels_1 = image_1.GetHeight();\n",
    "UInt_t xPixels_1 = image_1.GetWidth();\n",
    "UInt_t *argb_1   = image_1.GetArgbArray();\n",
    "\n",
    "TASImage image_2(\"imagesn\");\n",
    "UInt_t yPixels_2 = image_2.GetHeight();\n",
    "UInt_t xPixels_2 = image_2.GetWidth();\n",
    "UInt_t *argb_2   = image_2.GetArgbArray();"
   ]
  },
  {
   "cell_type": "markdown",
   "metadata": {},
   "source": [
    "Defining histograms"
   ]
  },
  {
   "cell_type": "code",
   "execution_count": null,
   "metadata": {
    "collapsed": true
   },
   "outputs": [],
   "source": [
    "TH2D* h_image_1 = new TH2D(\"h_image_1\",\"Satellite image of before\",xPixels_1,-1,1,yPixels_1,-1,1);\n",
    "TH2D* h_image_2 = new TH2D(\"h_image_2\",\"Satellite image of after\",xPixels_2,-1,1,yPixels_2,-1,1);"
   ]
  },
  {
   "cell_type": "markdown",
   "metadata": {},
   "source": [
    "Creating a 2D map with each of the input images"
   ]
  },
  {
   "cell_type": "code",
   "execution_count": null,
   "metadata": {
    "collapsed": true
   },
   "outputs": [],
   "source": [
    "float entriesInPixel= 0;\n",
    "\n",
    "for (int row=0; row<xPixels_1; ++row)\n",
    "{\n",
    "    for (int col=0; col<yPixels_1; ++col)\n",
    "    {\n",
    "        int index_1 = col*xPixels_1+row;\n",
    "        int index_2 = col*xPixels_2+row;\n",
    "        \n",
    "        float indexvalue1 = float(argb_1[index_1]);\n",
    "        float indexvalue2 = float(argb_2[index_2]);\n",
    "        //float greyScale = float(argb_1[index_1]&0xff)/256;\n",
    "        //float greyScale = float(argb_2[index_2]&0xff)/256;\n",
    "        \n",
    "        if(indexvalue1 > entriesInPixel)\n",
    "        {\n",
    "            h_image_1->SetBinContent(row+1,yPixels_1-col,indexvalue1);\n",
    "            h_image_2->SetBinContent(row+1,yPixels_2-col,indexvalue2);\n",
    "        }\n",
    "    }\n",
    "}"
   ]
  },
  {
   "cell_type": "markdown",
   "metadata": {},
   "source": [
    "Draw those 2D histograms/maps"
   ]
  },
  {
   "cell_type": "code",
   "execution_count": null,
   "metadata": {
    "collapsed": true
   },
   "outputs": [],
   "source": [
    "%jsroot on"
   ]
  },
  {
   "cell_type": "code",
   "execution_count": null,
   "metadata": {
    "collapsed": false
   },
   "outputs": [],
   "source": [
    "h_image_1->Draw(\"colz\");\n",
    "c1->Draw();"
   ]
  },
  {
   "cell_type": "code",
   "execution_count": null,
   "metadata": {
    "collapsed": false
   },
   "outputs": [],
   "source": [
    "h_image_2->Draw(\"colz\");\n",
    "c1->Draw();"
   ]
  },
  {
   "cell_type": "markdown",
   "metadata": {},
   "source": [
    "Let's make the ratio between boths"
   ]
  },
  {
   "cell_type": "code",
   "execution_count": null,
   "metadata": {
    "collapsed": false
   },
   "outputs": [],
   "source": [
    "h_image_2->Divide(h_image_1);\n",
    "\n",
    "h_image_2->Draw(\"colz\");\n",
    "\n",
    "c1->Draw();"
   ]
  },
  {
   "cell_type": "markdown",
   "metadata": {},
   "source": [
    "Applying another style"
   ]
  },
  {
   "cell_type": "code",
   "execution_count": null,
   "metadata": {
    "collapsed": false
   },
   "outputs": [],
   "source": [
    "gStyle->SetPalette(53);\n",
    "h_image_2->Draw(\"colz\");\n",
    "\n",
    "c1->Draw();"
   ]
  },
  {
   "cell_type": "markdown",
   "metadata": {},
   "source": [
    "**Done!**"
   ]
  }
 ],
 "metadata": {
  "kernelspec": {
   "display_name": "ROOT Prompt",
   "language": "c++",
   "name": "root"
  },
  "language_info": {
   "codemirror_mode": {
    "name": "ipython",
    "version": 2
   },
   "file_extension": ".py",
   "mimetype": "text/x-python",
   "name": "python",
   "nbconvert_exporter": "python",
   "pygments_lexer": "ipython2",
   "version": "2.7.9"
  }
 },
 "nbformat": 4,
 "nbformat_minor": 2
}
